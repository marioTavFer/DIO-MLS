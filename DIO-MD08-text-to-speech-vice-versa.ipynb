{
 "cells": [
  {
   "cell_type": "code",
   "execution_count": null,
   "metadata": {},
   "outputs": [],
   "source": [
    "# DIO - desafio do módulo 08 - PLN - \"texto para fala\" e \"fala para texto\"\n",
    "# como base foi utilizado o código apresentado pelo professor.\n",
    "# O codigo foi escrito dentro do Visual Studio Code, com Copilot, e executado em máquina local, utilizando environment do Anaconda\n",
    "# foi criado um environment para o projeto, e para trabalhar com NLP, e foi configurado com as bibliotecas necessárias.\n",
    "# e executado upload no github para entrega do desafio."
   ]
  },
  {
   "cell_type": "code",
   "execution_count": 35,
   "metadata": {},
   "outputs": [],
   "source": [
    "from gtts import gTTS\n",
    "from IPython.display import Audio"
   ]
  },
  {
   "cell_type": "code",
   "execution_count": 36,
   "metadata": {},
   "outputs": [],
   "source": [
    "# Parte 01 do exercício: ler texto e converter em fala\n",
    "\n",
    "# texto exemplo para converter em fala\n",
    "# texto_a_dizer = \"How are you doing?\"\n",
    "texto_a_dizer = \"Bom dia, como vai?\"\n",
    "\n",
    "# qual o idioma do texto\n",
    "# idioma = 'en'\n",
    "idioma = 'pt-br'\n",
    "\n",
    "# faz a conversão utilizando a biblioteca gTTS\n",
    "fala = gTTS(text = texto_a_dizer, lang = idioma, slow = False)\n",
    "\n",
    "# grava localmente o arquivo de audio\n",
    "fala.save(\"DIO-PLN/fala_teste.wav\")"
   ]
  },
  {
   "cell_type": "code",
   "execution_count": 37,
   "metadata": {},
   "outputs": [
    {
     "data": {
      "text/html": [
       "\n",
       "                <audio  controls=\"controls\" >\n",
       "                    <source src=\"data:audio/wav;base64,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\" type=\"audio/wav\" />\n",
       "                    Your browser does not support the audio element.\n",
       "                </audio>\n",
       "              "
      ],
      "text/plain": [
       "<IPython.lib.display.Audio object>"
      ]
     },
     "execution_count": 37,
     "metadata": {},
     "output_type": "execute_result"
    }
   ],
   "source": [
    "# 'lê/fala' o arquivo de audio\n",
    "Audio(\"DIO-PLN/fala_teste.wav\")\n"
   ]
  },
  {
   "cell_type": "code",
   "execution_count": 38,
   "metadata": {},
   "outputs": [],
   "source": [
    "# Parte 2 do exercício: converter fala em texto\n",
    "\n",
    "import speech_recognition as sr\n",
    "import os\n",
    "from datetime import datetime\n",
    "import playsound\n",
    "import pyjokes\n",
    "import wikipedia\n",
    "import pyaudio\n",
    "import webbrowser\n",
    "# import winshell\n",
    "import pygame\n",
    "from pygame import mixer"
   ]
  },
  {
   "cell_type": "code",
   "execution_count": 39,
   "metadata": {},
   "outputs": [
    {
     "name": "stdout",
     "output_type": "stream",
     "text": [
      "speech:  3.11.0  wikipedia:  (1, 4, 0)  pyaudio:  0.2.14  pygame:  2.6.1\n"
     ]
    }
   ],
   "source": [
    "print('speech: ', sr.__version__, ' wikipedia: ', wikipedia.__version__, ' pyaudio: ', pyaudio.__version__, ' pygame: ', pygame.__version__)\n",
    "# playsound.version"
   ]
  },
  {
   "cell_type": "markdown",
   "metadata": {},
   "source": [
    "NOTAS importantes: \n",
    " - playsound deve ser pelo 'pip'==1.2.2 (a versão, no meu Anaconda, do playsound, era 1.3.0 e não funcionou)\n",
    " - no meu windows 11, rodando o exercicio ocorreu outro erro indicando que não tinha FLAC instalado('Free Lossless Audio Codec', similar ao MP3), ('FLAC conversion utility not available') (flac.exe). 'Método sujo', mas rápido, de resolver: dei o download em https://xiph.org/flac/download.html e coloquei ( o exe a a lib) no diretório(\\users\\mario) onde 'roda' o ipynb. tem que tirar a extensão 'exe' do flac, também. No meu caso funcionou, para o momento, mas não deve ser considerado como solução final.\n"
   ]
  },
  {
   "cell_type": "code",
   "execution_count": 40,
   "metadata": {},
   "outputs": [
    {
     "name": "stdout",
     "output_type": "stream",
     "text": [
      "3.12.4\n"
     ]
    }
   ],
   "source": [
    "from platform import python_version\n",
    "print(python_version())"
   ]
  },
  {
   "cell_type": "code",
   "execution_count": 41,
   "metadata": {},
   "outputs": [],
   "source": [
    "#inicializa mixer do pygame\n",
    "pygame.init()\n",
    "relogio = pygame.time.Clock()\n",
    "# define a taxa de atualização da tela, caso seja necessário\n",
    "dt = relogio.tick(60) / 1000\n",
    "som = mixer.init(frequency=44100, size=-16, channels=2, buffer=512)"
   ]
  },
  {
   "cell_type": "code",
   "execution_count": 42,
   "metadata": {},
   "outputs": [],
   "source": [
    "# converte audio em texto\n",
    "def fala(text):\n",
    "    tts = gTTS(text=text, lang='en')\n",
    "    filename = \"voz.mp3\"\n",
    "    try:\n",
    "        os.remove(filename)\n",
    "    except OSError:\n",
    "        pass\n",
    "    tts.save(filename)\n",
    "    playsound.playsound(filename)"
   ]
  },
  {
   "cell_type": "code",
   "execution_count": null,
   "metadata": {},
   "outputs": [],
   "source": [
    "# só um teste rápido para ver se a conversão de texto para fala está funcionando\n",
    "# playsound.playsound('voz.mp3')"
   ]
  },
  {
   "cell_type": "code",
   "execution_count": 44,
   "metadata": {},
   "outputs": [],
   "source": [
    "# pega o microfone\n",
    "def escuta_audio():\n",
    "    r = sr.Recognizer()\n",
    "    with sr.Microphone() as source:\n",
    "        r.pause_threshold = 1\n",
    "        # espera um segundo para ajuste de reconhecimento em função do ruido local\n",
    "        r.adjust_for_ambient_noise(source, duration=1)\n",
    "        audio = r.listen(source)\n",
    "        ouvido = \"\"\n",
    "        try:\n",
    "            ouvido = r.recognize_google(audio)\n",
    "            print(ouvido)\n",
    "        except sr.UnknownValueError:\n",
    "            fala(\"Sorry, I did not get that.\")\n",
    "        except sr.RequestError as e:\n",
    "            fala(\"Sorry, the service is not available, {0}\".format(e))\n",
    "    return ouvido.lower()"
   ]
  },
  {
   "cell_type": "code",
   "execution_count": null,
   "metadata": {},
   "outputs": [],
   "source": [
    "# tocar musica\n",
    "def tocamusica(song):\n",
    "    mixer.music.load(song)\n",
    "    mixer.music.play()\n",
    "\n",
    "# e parar musica\n",
    "def paramusica():\n",
    "    mixer.music.stop()\n",
    "    \n"
   ]
  },
  {
   "cell_type": "code",
   "execution_count": null,
   "metadata": {},
   "outputs": [],
   "source": [
    "#responde a comandos\n",
    "def responde(text):\n",
    "    print(\"Text from get audio \" + text)\n",
    "    if 'youtube' in text:\n",
    "        fala(\"What do you want to search for?\")\n",
    "        keyword = escuta_audio()\n",
    "        if keyword!= '':\n",
    "            url = f\"https://www.youtube.com/results?search_query={keyword}\"\n",
    "            webbrowser.get().open(url)\n",
    "            fala(f\"Here is what I have found for {keyword} on youtube\")\n",
    "    elif 'search' in text:\n",
    "        fala(\"What do you want to search for?\")\n",
    "        query = escuta_audio()\n",
    "        if query !='':\n",
    "            result = wikipedia.summary(query, sentences=3)\n",
    "            fala(\"According to wikipedia\")\n",
    "            print(result)\n",
    "            fala(result)\n",
    "    elif 'joke' in text:\n",
    "        fala(pyjokes.get_joke())\n",
    "    elif 'what time' in text:\n",
    "        strTime = datetime.today().strftime(\"%H:%M %p\")\n",
    "        print(strTime)\n",
    "        fala(strTime)\n",
    "    elif 'play music' in text or 'play song' in text:\n",
    "        fala(\"Now playing...\")\n",
    "        #music_dir = \"C:\\\\Users\\\\mario\\\\DIO-musicas\\\\\" #add your music directory here..\n",
    "        music_dir = \"DIO-musicas/\" #add your music directory here..\n",
    "        songs = os.listdir(music_dir)\n",
    "        #counter = 0\n",
    "        print (songs)\n",
    "        print (testtte de diretorio)\n",
    "        tocamusica(music_dir + \"/\" + songs[0])\n",
    "    elif 'stop music' in text:\n",
    "        fala(\"Stopping playback.\")\n",
    "        paramusica()\n",
    "    elif 'exit' in text:\n",
    "        fala(\"Goodbye, till next time\")\n",
    "        exit()\n",
    "    "
   ]
  },
  {
   "cell_type": "code",
   "execution_count": 47,
   "metadata": {},
   "outputs": [
    {
     "name": "stdout",
     "output_type": "stream",
     "text": [
      "play music\n",
      "I am listening...\n",
      "Text from get audio \n",
      "I am listening...\n",
      "stop music\n",
      "Text from get audio stop music\n",
      "I am listening...\n",
      "Text from get audio \n",
      "I am listening...\n",
      "Text from get audio \n",
      "I am listening...\n",
      "Text from get audio \n",
      "I am listening...\n",
      "Text from get audio \n",
      "I am listening...\n",
      "Text from get audio \n",
      "I am listening...\n",
      "Text from get audio \n",
      "I am listening...\n",
      "Text from get audio \n",
      "I am listening...\n",
      "play music\n",
      "Text from get audio play music\n",
      "['Rock.mp3']\n",
      "I am listening...\n",
      "Text from get audio \n",
      "I am listening...\n",
      "stop music\n",
      "Text from get audio stop music\n",
      "I am listening...\n",
      "Text from get audio \n",
      "I am listening...\n",
      "Text from get audio \n",
      "I am listening...\n"
     ]
    },
    {
     "ename": "KeyboardInterrupt",
     "evalue": "",
     "output_type": "error",
     "traceback": [
      "\u001b[1;31m---------------------------------------------------------------------------\u001b[0m",
      "\u001b[1;31mKeyboardInterrupt\u001b[0m                         Traceback (most recent call last)",
      "Cell \u001b[1;32mIn[47], line 10\u001b[0m\n\u001b[0;32m      8\u001b[0m \u001b[38;5;28;01mwhile\u001b[39;00m \u001b[38;5;28;01mTrue\u001b[39;00m:\n\u001b[0;32m      9\u001b[0m     \u001b[38;5;28mprint\u001b[39m(\u001b[38;5;124m\"\u001b[39m\u001b[38;5;124mI am listening...\u001b[39m\u001b[38;5;124m\"\u001b[39m)\n\u001b[1;32m---> 10\u001b[0m     text \u001b[38;5;241m=\u001b[39m escuta_audio()\n\u001b[0;32m     11\u001b[0m     responde(text)\n",
      "Cell \u001b[1;32mIn[44], line 8\u001b[0m, in \u001b[0;36mescuta_audio\u001b[1;34m()\u001b[0m\n\u001b[0;32m      6\u001b[0m \u001b[38;5;66;03m# espera um segundo para ajuste de reconhecimento em função do ruido local\u001b[39;00m\n\u001b[0;32m      7\u001b[0m r\u001b[38;5;241m.\u001b[39madjust_for_ambient_noise(source, duration\u001b[38;5;241m=\u001b[39m\u001b[38;5;241m1\u001b[39m)\n\u001b[1;32m----> 8\u001b[0m audio \u001b[38;5;241m=\u001b[39m r\u001b[38;5;241m.\u001b[39mlisten(source)\n\u001b[0;32m      9\u001b[0m ouvido \u001b[38;5;241m=\u001b[39m \u001b[38;5;124m\"\u001b[39m\u001b[38;5;124m\"\u001b[39m\n\u001b[0;32m     10\u001b[0m \u001b[38;5;28;01mtry\u001b[39;00m:\n",
      "File \u001b[1;32mc:\\Users\\mario\\anaconda3\\envs\\basecloneNLP\\Lib\\site-packages\\speech_recognition\\__init__.py:465\u001b[0m, in \u001b[0;36mRecognizer.listen\u001b[1;34m(self, source, timeout, phrase_time_limit, snowboy_configuration, stream)\u001b[0m\n\u001b[0;32m    463\u001b[0m result \u001b[38;5;241m=\u001b[39m \u001b[38;5;28mself\u001b[39m\u001b[38;5;241m.\u001b[39m_listen(source, timeout, phrase_time_limit, snowboy_configuration, stream)\n\u001b[0;32m    464\u001b[0m \u001b[38;5;28;01mif\u001b[39;00m \u001b[38;5;129;01mnot\u001b[39;00m stream:\n\u001b[1;32m--> 465\u001b[0m     \u001b[38;5;28;01mfor\u001b[39;00m a \u001b[38;5;129;01min\u001b[39;00m result:\n\u001b[0;32m    466\u001b[0m         \u001b[38;5;28;01mreturn\u001b[39;00m a\n\u001b[0;32m    467\u001b[0m \u001b[38;5;28;01mreturn\u001b[39;00m result\n",
      "File \u001b[1;32mc:\\Users\\mario\\anaconda3\\envs\\basecloneNLP\\Lib\\site-packages\\speech_recognition\\__init__.py:535\u001b[0m, in \u001b[0;36mRecognizer._listen\u001b[1;34m(self, source, timeout, phrase_time_limit, snowboy_configuration, stream)\u001b[0m\n\u001b[0;32m    532\u001b[0m \u001b[38;5;28;01mif\u001b[39;00m phrase_time_limit \u001b[38;5;129;01mand\u001b[39;00m elapsed_time \u001b[38;5;241m-\u001b[39m phrase_start_time \u001b[38;5;241m>\u001b[39m phrase_time_limit:\n\u001b[0;32m    533\u001b[0m     \u001b[38;5;28;01mbreak\u001b[39;00m\n\u001b[1;32m--> 535\u001b[0m buffer \u001b[38;5;241m=\u001b[39m source\u001b[38;5;241m.\u001b[39mstream\u001b[38;5;241m.\u001b[39mread(source\u001b[38;5;241m.\u001b[39mCHUNK)\n\u001b[0;32m    536\u001b[0m \u001b[38;5;28;01mif\u001b[39;00m \u001b[38;5;28mlen\u001b[39m(buffer) \u001b[38;5;241m==\u001b[39m \u001b[38;5;241m0\u001b[39m: \u001b[38;5;28;01mbreak\u001b[39;00m  \u001b[38;5;66;03m# reached end of the stream\u001b[39;00m\n\u001b[0;32m    537\u001b[0m frames\u001b[38;5;241m.\u001b[39mappend(buffer)\n",
      "File \u001b[1;32mc:\\Users\\mario\\anaconda3\\envs\\basecloneNLP\\Lib\\site-packages\\speech_recognition\\__init__.py:196\u001b[0m, in \u001b[0;36mMicrophone.MicrophoneStream.read\u001b[1;34m(self, size)\u001b[0m\n\u001b[0;32m    195\u001b[0m \u001b[38;5;28;01mdef\u001b[39;00m \u001b[38;5;21mread\u001b[39m(\u001b[38;5;28mself\u001b[39m, size):\n\u001b[1;32m--> 196\u001b[0m     \u001b[38;5;28;01mreturn\u001b[39;00m \u001b[38;5;28mself\u001b[39m\u001b[38;5;241m.\u001b[39mpyaudio_stream\u001b[38;5;241m.\u001b[39mread(size, exception_on_overflow\u001b[38;5;241m=\u001b[39m\u001b[38;5;28;01mFalse\u001b[39;00m)\n",
      "File \u001b[1;32mc:\\Users\\mario\\anaconda3\\envs\\basecloneNLP\\Lib\\site-packages\\pyaudio\\__init__.py:570\u001b[0m, in \u001b[0;36mPyAudio.Stream.read\u001b[1;34m(self, num_frames, exception_on_overflow)\u001b[0m\n\u001b[0;32m    567\u001b[0m \u001b[38;5;28;01mif\u001b[39;00m \u001b[38;5;129;01mnot\u001b[39;00m \u001b[38;5;28mself\u001b[39m\u001b[38;5;241m.\u001b[39m_is_input:\n\u001b[0;32m    568\u001b[0m     \u001b[38;5;28;01mraise\u001b[39;00m \u001b[38;5;167;01mIOError\u001b[39;00m(\u001b[38;5;124m\"\u001b[39m\u001b[38;5;124mNot input stream\u001b[39m\u001b[38;5;124m\"\u001b[39m,\n\u001b[0;32m    569\u001b[0m                   paCanNotReadFromAnOutputOnlyStream)\n\u001b[1;32m--> 570\u001b[0m \u001b[38;5;28;01mreturn\u001b[39;00m pa\u001b[38;5;241m.\u001b[39mread_stream(\u001b[38;5;28mself\u001b[39m\u001b[38;5;241m.\u001b[39m_stream, num_frames,\n\u001b[0;32m    571\u001b[0m                       exception_on_overflow)\n",
      "\u001b[1;31mKeyboardInterrupt\u001b[0m: "
     ]
    }
   ],
   "source": [
    "\n",
    "# vamos testar, primeiro, a conversão de texto em fala\n",
    "text = escuta_audio()\n",
    "fala(text)\n",
    "\n",
    "# fica em loop esperando comando verbal\n",
    "# dentro das opções definidas acima\n",
    "\n",
    "while True:\n",
    "    print(\"I am listening...\")\n",
    "    text = escuta_audio()\n",
    "    responde(text)"
   ]
  }
 ],
 "metadata": {
  "kernelspec": {
   "display_name": "basecloneNLP",
   "language": "python",
   "name": "baseclonenlp"
  },
  "language_info": {
   "codemirror_mode": {
    "name": "ipython",
    "version": 3
   },
   "file_extension": ".py",
   "mimetype": "text/x-python",
   "name": "python",
   "nbconvert_exporter": "python",
   "pygments_lexer": "ipython3",
   "version": "3.12.4"
  }
 },
 "nbformat": 4,
 "nbformat_minor": 2
}
