{
  "cells": [
    {
      "cell_type": "markdown",
      "metadata": {
        "id": "view-in-github",
        "colab_type": "text"
      },
      "source": [
        "<a href=\"https://colab.research.google.com/github/marioTavFer/DIO-MLS/blob/main/DIO_MD04_CopiaConfusionMatrix_MLTF_V3_2.ipynb\" target=\"_parent\"><img src=\"https://colab.research.google.com/assets/colab-badge.svg\" alt=\"Open In Colab\"/></a>"
      ]
    },
    {
      "cell_type": "markdown",
      "metadata": {
        "id": "7jMAaPviJ1qo"
      },
      "source": [
        "Modulo 04 - Desafio de Projeto - Calculo de Metricas de avaliacao de Aprendizado - Utilizando o exemplo do professor, calcular as principais metricas para avaliacao de modelos de classificacao de dados, como acuracia, sensibilidade (recall), especificidade, precisão e F-score."
      ]
    },
    {
      "cell_type": "code",
      "execution_count": 1,
      "metadata": {
        "id": "Nr2ZyMJk9bbn"
      },
      "outputs": [],
      "source": [
        "# Objetivo do exercício é o calculo manual dos valore VP, VN, FP, FN da matriz de confusão, utilizando o exemplo fornecido pelo professor.\n",
        "# Análise se inicia após heatmap\n",
        "\n",
        "# !pip install -q tensorflow-gpu==2.0.0-beta1"
      ]
    },
    {
      "cell_type": "code",
      "execution_count": 2,
      "metadata": {
        "id": "9GOTUsN2vHZr"
      },
      "outputs": [],
      "source": [
        "import io\n",
        "import keras\n",
        "from keras import datasets, layers, models\n",
        "import matplotlib as mat\n",
        "import matplotlib.pyplot as plt\n",
        "import tensorflow as tf\n",
        "import numpy as np\n",
        "import seaborn as sns\n",
        "import pandas as pd"
      ]
    },
    {
      "cell_type": "code",
      "execution_count": 3,
      "metadata": {
        "colab": {
          "base_uri": "https://localhost:8080/"
        },
        "id": "Wickr6O73HpO",
        "outputId": "e79c6139-54e3-4661-fb00-574e438255dc"
      },
      "outputs": [
        {
          "output_type": "stream",
          "name": "stdout",
          "text": [
            "keras:  3.4.1 \n",
            "matplolib:  3.8.0 \n",
            "tensorflow:  2.17.0 \n",
            "numpy:  1.26.4 \n",
            "seaborn:  0.13.2 \n",
            "pandas:  2.2.2\n"
          ]
        }
      ],
      "source": [
        "print('keras: ', keras.__version__, '\\nmatplolib: ', mat.__version__, '\\ntensorflow: ', tf.__version__, '\\nnumpy: ',np.__version__, '\\nseaborn: ', sns.__version__, '\\npandas: ', pd.__version__)"
      ]
    },
    {
      "cell_type": "code",
      "execution_count": 4,
      "metadata": {
        "id": "Lc4AqLg2saU4"
      },
      "outputs": [],
      "source": [
        "%load_ext tensorboard"
      ]
    },
    {
      "cell_type": "code",
      "execution_count": 5,
      "metadata": {
        "id": "wHY7qcTV2uxR"
      },
      "outputs": [],
      "source": [
        "logdir='logv3'"
      ]
    },
    {
      "cell_type": "code",
      "execution_count": 6,
      "metadata": {
        "colab": {
          "base_uri": "https://localhost:8080/"
        },
        "id": "8I41zgjVvF1g",
        "outputId": "ad1dcb87-1473-43d8-fa38-2d05839655f9"
      },
      "outputs": [
        {
          "output_type": "stream",
          "name": "stdout",
          "text": [
            "Downloading data from https://storage.googleapis.com/tensorflow/tf-keras-datasets/mnist.npz\n",
            "\u001b[1m11490434/11490434\u001b[0m \u001b[32m━━━━━━━━━━━━━━━━━━━━\u001b[0m\u001b[37m\u001b[0m \u001b[1m0s\u001b[0m 0us/step\n"
          ]
        }
      ],
      "source": [
        "(treino_imagens, treino_labels), (teste_imagens, teste_labels) = datasets.mnist.load_data()\n",
        "\n",
        "treino_imagens = treino_imagens.reshape((60000, 28, 28, 1))\n",
        "teste_imagens = teste_imagens.reshape((10000, 28, 28, 1))\n",
        "\n",
        "treino_imagens, teste_imagens = treino_imagens / 255.0, teste_imagens / 255.0\n",
        "\n",
        "classes=[0,1,2,3,4,5,6,7,8,9]\n"
      ]
    },
    {
      "cell_type": "code",
      "execution_count": 7,
      "metadata": {
        "id": "_eD7E_m39bis"
      },
      "outputs": [],
      "source": [
        "model = models.Sequential()\n",
        "model.add(keras.Input(shape=(28, 28, 1)))\n",
        "model.add(layers.Conv2D(32, (3, 3), activation='relu'))\n",
        "model.add(layers.MaxPooling2D((2, 2)))\n",
        "model.add(layers.Conv2D(64, (3, 3), activation='relu'))\n",
        "model.add(layers.MaxPooling2D((2, 2)))\n",
        "model.add(layers.Conv2D(64, (3, 3), activation='relu'))\n",
        "\n",
        "model.add(layers.Flatten())\n",
        "model.add(layers.Dense(64, activation='relu'))\n",
        "model.add(layers.Dense(10, activation='softmax'))\n"
      ]
    },
    {
      "cell_type": "code",
      "execution_count": 8,
      "metadata": {
        "id": "e19fqT7B4QII"
      },
      "outputs": [],
      "source": [
        "tensorboard_callback = tf.keras.callbacks.TensorBoard(logdir, histogram_freq=1)"
      ]
    },
    {
      "cell_type": "code",
      "execution_count": 9,
      "metadata": {
        "colab": {
          "base_uri": "https://localhost:8080/"
        },
        "id": "QOIbCQ3T9bml",
        "outputId": "5982bf36-1080-47a5-f0d6-57c02c1cc0f8"
      },
      "outputs": [
        {
          "output_type": "stream",
          "name": "stdout",
          "text": [
            "Epoch 1/5\n",
            "\u001b[1m1875/1875\u001b[0m \u001b[32m━━━━━━━━━━━━━━━━━━━━\u001b[0m\u001b[37m\u001b[0m \u001b[1m70s\u001b[0m 36ms/step - accuracy: 0.8929 - loss: 0.3485 - val_accuracy: 0.9840 - val_loss: 0.0514\n",
            "Epoch 2/5\n",
            "\u001b[1m1875/1875\u001b[0m \u001b[32m━━━━━━━━━━━━━━━━━━━━\u001b[0m\u001b[37m\u001b[0m \u001b[1m73s\u001b[0m 32ms/step - accuracy: 0.9848 - loss: 0.0502 - val_accuracy: 0.9875 - val_loss: 0.0357\n",
            "Epoch 3/5\n",
            "\u001b[1m1875/1875\u001b[0m \u001b[32m━━━━━━━━━━━━━━━━━━━━\u001b[0m\u001b[37m\u001b[0m \u001b[1m83s\u001b[0m 33ms/step - accuracy: 0.9900 - loss: 0.0337 - val_accuracy: 0.9867 - val_loss: 0.0412\n",
            "Epoch 4/5\n",
            "\u001b[1m1875/1875\u001b[0m \u001b[32m━━━━━━━━━━━━━━━━━━━━\u001b[0m\u001b[37m\u001b[0m \u001b[1m82s\u001b[0m 33ms/step - accuracy: 0.9917 - loss: 0.0266 - val_accuracy: 0.9909 - val_loss: 0.0307\n",
            "Epoch 5/5\n",
            "\u001b[1m1875/1875\u001b[0m \u001b[32m━━━━━━━━━━━━━━━━━━━━\u001b[0m\u001b[37m\u001b[0m \u001b[1m80s\u001b[0m 32ms/step - accuracy: 0.9935 - loss: 0.0190 - val_accuracy: 0.9899 - val_loss: 0.0357\n"
          ]
        },
        {
          "output_type": "execute_result",
          "data": {
            "text/plain": [
              "<keras.src.callbacks.history.History at 0x79e40bfe2410>"
            ]
          },
          "metadata": {},
          "execution_count": 9
        }
      ],
      "source": [
        "model.compile(optimizer='adam',\n",
        "              loss='sparse_categorical_crossentropy',\n",
        "              metrics=['accuracy'])\n",
        "\n",
        "model.fit(x=treino_imagens,\n",
        "            y=treino_labels,\n",
        "            epochs=5,\n",
        "            validation_data=(teste_imagens, teste_labels))"
      ]
    },
    {
      "cell_type": "code",
      "execution_count": 10,
      "metadata": {
        "colab": {
          "base_uri": "https://localhost:8080/"
        },
        "id": "SHkdG_lehhMU",
        "outputId": "ac2a88f2-57a2-4fa1-9065-6faa6bed3fb4"
      },
      "outputs": [
        {
          "output_type": "stream",
          "name": "stdout",
          "text": [
            "\u001b[1m313/313\u001b[0m \u001b[32m━━━━━━━━━━━━━━━━━━━━\u001b[0m\u001b[37m\u001b[0m \u001b[1m3s\u001b[0m 9ms/step\n"
          ]
        }
      ],
      "source": [
        "y_teste=teste_labels\n",
        "#y_prev=model.predict_classes(teste_imagens)\n",
        "y_previsto=np.argmax(model.predict(teste_imagens), axis=-1)"
      ]
    },
    {
      "cell_type": "code",
      "execution_count": 11,
      "metadata": {
        "colab": {
          "base_uri": "https://localhost:8080/"
        },
        "id": "lPx20C0YmOrG",
        "outputId": "1fff72c9-1af2-4bcf-e090-98f4a9f23377"
      },
      "outputs": [
        {
          "output_type": "execute_result",
          "data": {
            "text/plain": [
              "numpy.ndarray"
            ]
          },
          "metadata": {},
          "execution_count": 11
        }
      ],
      "source": [
        "type(y_teste)"
      ]
    },
    {
      "cell_type": "code",
      "execution_count": 12,
      "metadata": {
        "id": "iu2h0QRmDJjW"
      },
      "outputs": [],
      "source": [
        "classes=[0,1,2,3,4,5,6,7,8,9]"
      ]
    },
    {
      "cell_type": "code",
      "execution_count": 13,
      "metadata": {
        "colab": {
          "base_uri": "https://localhost:8080/",
          "height": 826
        },
        "id": "REXBQV3UX15X",
        "outputId": "92a0023f-428e-4908-c1a2-783b7570e301"
      },
      "outputs": [
        {
          "output_type": "display_data",
          "data": {
            "text/plain": [
              "<Figure size 800x800 with 2 Axes>"
            ],
            "image/png": "[encoded data removed]"
          },
          "metadata": {}
        }
      ],
      "source": [
        "con_mat = tf.math.confusion_matrix(\n",
        "    labels=y_teste,\n",
        "    predictions=y_previsto).numpy()\n",
        "\n",
        "con_mat_norm = np.around(con_mat.astype('float') / con_mat.sum(axis=1)[:, np.newaxis], decimals=2)\n",
        "\n",
        "con_mat_df = pd.DataFrame(con_mat_norm,\n",
        "                     index = classes,\n",
        "                     columns = classes)\n",
        "\n",
        "figure = plt.figure(figsize=(8, 8))\n",
        "sns.heatmap(con_mat_df, annot=True,cmap=plt.cm.Blues)\n",
        "plt.tight_layout()\n",
        "plt.ylabel('Teste')\n",
        "plt.xlabel('Previsto')\n",
        "plt.show()"
      ]
    },
    {
      "cell_type": "code",
      "execution_count": 14,
      "metadata": {
        "colab": {
          "base_uri": "https://localhost:8080/"
        },
        "id": "JYaREJ73t0Sw",
        "outputId": "8ccdf92f-9a43-40da-e404-caf9b9a9b57b"
      },
      "outputs": [
        {
          "output_type": "stream",
          "name": "stdout",
          "text": [
            "\u001b[1m313/313\u001b[0m \u001b[32m━━━━━━━━━━━━━━━━━━━━\u001b[0m\u001b[37m\u001b[0m \u001b[1m4s\u001b[0m 13ms/step - accuracy: 1.0000 - loss: 0.0088\n",
            "[0.006942663341760635, 1.0]\n"
          ]
        }
      ],
      "source": [
        "avaliacao = model.evaluate(teste_imagens, y_previsto)\n",
        "print(avaliacao)"
      ]
    },
    {
      "cell_type": "code",
      "execution_count": 15,
      "metadata": {
        "colab": {
          "base_uri": "https://localhost:8080/",
          "height": 425
        },
        "id": "CVUecGPqtiQ4",
        "outputId": "47ed4f05-0764-48ff-a6d5-1d5f2f694d38"
      },
      "outputs": [
        {
          "output_type": "display_data",
          "data": {
            "text/plain": [
              "\u001b[1mModel: \"sequential\"\u001b[0m\n"
            ],
            "text/html": [
              "<pre style=\"white-space:pre;overflow-x:auto;line-height:normal;font-family:Menlo,'DejaVu Sans Mono',consolas,'Courier New',monospace\"><span style=\"font-weight: bold\">Model: \"sequential\"</span>\n",
              "</pre>\n"
            ]
          },
          "metadata": {}
        },
        {
          "output_type": "display_data",
          "data": {
            "text/plain": [
              "┏━━━━━━━━━━━━━━━━━━━━━━━━━━━━━━━━━━━━━━┳━━━━━━━━━━━━━━━━━━━━━━━━━━━━━┳━━━━━━━━━━━━━━━━━┓\n",
              "┃\u001b[1m \u001b[0m\u001b[1mLayer (type)                        \u001b[0m\u001b[1m \u001b[0m┃\u001b[1m \u001b[0m\u001b[1mOutput Shape               \u001b[0m\u001b[1m \u001b[0m┃\u001b[1m \u001b[0m\u001b[1m        Param #\u001b[0m\u001b[1m \u001b[0m┃\n",
              "┡━━━━━━━━━━━━━━━━━━━━━━━━━━━━━━━━━━━━━━╇━━━━━━━━━━━━━━━━━━━━━━━━━━━━━╇━━━━━━━━━━━━━━━━━┩\n",
              "│ conv2d (\u001b[38;5;33mConv2D\u001b[0m)                      │ (\u001b[38;5;45mNone\u001b[0m, \u001b[38;5;34m26\u001b[0m, \u001b[38;5;34m26\u001b[0m, \u001b[38;5;34m32\u001b[0m)          │             \u001b[38;5;34m320\u001b[0m │\n",
              "├──────────────────────────────────────┼─────────────────────────────┼─────────────────┤\n",
              "│ max_pooling2d (\u001b[38;5;33mMaxPooling2D\u001b[0m)         │ (\u001b[38;5;45mNone\u001b[0m, \u001b[38;5;34m13\u001b[0m, \u001b[38;5;34m13\u001b[0m, \u001b[38;5;34m32\u001b[0m)          │               \u001b[38;5;34m0\u001b[0m │\n",
              "├──────────────────────────────────────┼─────────────────────────────┼─────────────────┤\n",
              "│ conv2d_1 (\u001b[38;5;33mConv2D\u001b[0m)                    │ (\u001b[38;5;45mNone\u001b[0m, \u001b[38;5;34m11\u001b[0m, \u001b[38;5;34m11\u001b[0m, \u001b[38;5;34m64\u001b[0m)          │          \u001b[38;5;34m18,496\u001b[0m │\n",
              "├──────────────────────────────────────┼─────────────────────────────┼─────────────────┤\n",
              "│ max_pooling2d_1 (\u001b[38;5;33mMaxPooling2D\u001b[0m)       │ (\u001b[38;5;45mNone\u001b[0m, \u001b[38;5;34m5\u001b[0m, \u001b[38;5;34m5\u001b[0m, \u001b[38;5;34m64\u001b[0m)            │               \u001b[38;5;34m0\u001b[0m │\n",
              "├──────────────────────────────────────┼─────────────────────────────┼─────────────────┤\n",
              "│ conv2d_2 (\u001b[38;5;33mConv2D\u001b[0m)                    │ (\u001b[38;5;45mNone\u001b[0m, \u001b[38;5;34m3\u001b[0m, \u001b[38;5;34m3\u001b[0m, \u001b[38;5;34m64\u001b[0m)            │          \u001b[38;5;34m36,928\u001b[0m │\n",
              "├──────────────────────────────────────┼─────────────────────────────┼─────────────────┤\n",
              "│ flatten (\u001b[38;5;33mFlatten\u001b[0m)                    │ (\u001b[38;5;45mNone\u001b[0m, \u001b[38;5;34m576\u001b[0m)                 │               \u001b[38;5;34m0\u001b[0m │\n",
              "├──────────────────────────────────────┼─────────────────────────────┼─────────────────┤\n",
              "│ dense (\u001b[38;5;33mDense\u001b[0m)                        │ (\u001b[38;5;45mNone\u001b[0m, \u001b[38;5;34m64\u001b[0m)                  │          \u001b[38;5;34m36,928\u001b[0m │\n",
              "├──────────────────────────────────────┼─────────────────────────────┼─────────────────┤\n",
              "│ dense_1 (\u001b[38;5;33mDense\u001b[0m)                      │ (\u001b[38;5;45mNone\u001b[0m, \u001b[38;5;34m10\u001b[0m)                  │             \u001b[38;5;34m650\u001b[0m │\n",
              "└──────────────────────────────────────┴─────────────────────────────┴─────────────────┘\n"
            ],
            "text/html": [
              "<pre style=\"white-space:pre;overflow-x:auto;line-height:normal;font-family:Menlo,'DejaVu Sans Mono',consolas,'Courier New',monospace\">┏━━━━━━━━━━━━━━━━━━━━━━━━━━━━━━━━━━━━━━┳━━━━━━━━━━━━━━━━━━━━━━━━━━━━━┳━━━━━━━━━━━━━━━━━┓\n",
              "┃<span style=\"font-weight: bold\"> Layer (type)                         </span>┃<span style=\"font-weight: bold\"> Output Shape                </span>┃<span style=\"font-weight: bold\">         Param # </span>┃\n",
              "┡━━━━━━━━━━━━━━━━━━━━━━━━━━━━━━━━━━━━━━╇━━━━━━━━━━━━━━━━━━━━━━━━━━━━━╇━━━━━━━━━━━━━━━━━┩\n",
              "│ conv2d (<span style=\"color: #0087ff; text-decoration-color: #0087ff\">Conv2D</span>)                      │ (<span style=\"color: #00d7ff; text-decoration-color: #00d7ff\">None</span>, <span style=\"color: #00af00; text-decoration-color: #00af00\">26</span>, <span style=\"color: #00af00; text-decoration-color: #00af00\">26</span>, <span style=\"color: #00af00; text-decoration-color: #00af00\">32</span>)          │             <span style=\"color: #00af00; text-decoration-color: #00af00\">320</span> │\n",
              "├──────────────────────────────────────┼─────────────────────────────┼─────────────────┤\n",
              "│ max_pooling2d (<span style=\"color: #0087ff; text-decoration-color: #0087ff\">MaxPooling2D</span>)         │ (<span style=\"color: #00d7ff; text-decoration-color: #00d7ff\">None</span>, <span style=\"color: #00af00; text-decoration-color: #00af00\">13</span>, <span style=\"color: #00af00; text-decoration-color: #00af00\">13</span>, <span style=\"color: #00af00; text-decoration-color: #00af00\">32</span>)          │               <span style=\"color: #00af00; text-decoration-color: #00af00\">0</span> │\n",
              "├──────────────────────────────────────┼─────────────────────────────┼─────────────────┤\n",
              "│ conv2d_1 (<span style=\"color: #0087ff; text-decoration-color: #0087ff\">Conv2D</span>)                    │ (<span style=\"color: #00d7ff; text-decoration-color: #00d7ff\">None</span>, <span style=\"color: #00af00; text-decoration-color: #00af00\">11</span>, <span style=\"color: #00af00; text-decoration-color: #00af00\">11</span>, <span style=\"color: #00af00; text-decoration-color: #00af00\">64</span>)          │          <span style=\"color: #00af00; text-decoration-color: #00af00\">18,496</span> │\n",
              "├──────────────────────────────────────┼─────────────────────────────┼─────────────────┤\n",
              "│ max_pooling2d_1 (<span style=\"color: #0087ff; text-decoration-color: #0087ff\">MaxPooling2D</span>)       │ (<span style=\"color: #00d7ff; text-decoration-color: #00d7ff\">None</span>, <span style=\"color: #00af00; text-decoration-color: #00af00\">5</span>, <span style=\"color: #00af00; text-decoration-color: #00af00\">5</span>, <span style=\"color: #00af00; text-decoration-color: #00af00\">64</span>)            │               <span style=\"color: #00af00; text-decoration-color: #00af00\">0</span> │\n",
              "├──────────────────────────────────────┼─────────────────────────────┼─────────────────┤\n",
              "│ conv2d_2 (<span style=\"color: #0087ff; text-decoration-color: #0087ff\">Conv2D</span>)                    │ (<span style=\"color: #00d7ff; text-decoration-color: #00d7ff\">None</span>, <span style=\"color: #00af00; text-decoration-color: #00af00\">3</span>, <span style=\"color: #00af00; text-decoration-color: #00af00\">3</span>, <span style=\"color: #00af00; text-decoration-color: #00af00\">64</span>)            │          <span style=\"color: #00af00; text-decoration-color: #00af00\">36,928</span> │\n",
              "├──────────────────────────────────────┼─────────────────────────────┼─────────────────┤\n",
              "│ flatten (<span style=\"color: #0087ff; text-decoration-color: #0087ff\">Flatten</span>)                    │ (<span style=\"color: #00d7ff; text-decoration-color: #00d7ff\">None</span>, <span style=\"color: #00af00; text-decoration-color: #00af00\">576</span>)                 │               <span style=\"color: #00af00; text-decoration-color: #00af00\">0</span> │\n",
              "├──────────────────────────────────────┼─────────────────────────────┼─────────────────┤\n",
              "│ dense (<span style=\"color: #0087ff; text-decoration-color: #0087ff\">Dense</span>)                        │ (<span style=\"color: #00d7ff; text-decoration-color: #00d7ff\">None</span>, <span style=\"color: #00af00; text-decoration-color: #00af00\">64</span>)                  │          <span style=\"color: #00af00; text-decoration-color: #00af00\">36,928</span> │\n",
              "├──────────────────────────────────────┼─────────────────────────────┼─────────────────┤\n",
              "│ dense_1 (<span style=\"color: #0087ff; text-decoration-color: #0087ff\">Dense</span>)                      │ (<span style=\"color: #00d7ff; text-decoration-color: #00d7ff\">None</span>, <span style=\"color: #00af00; text-decoration-color: #00af00\">10</span>)                  │             <span style=\"color: #00af00; text-decoration-color: #00af00\">650</span> │\n",
              "└──────────────────────────────────────┴─────────────────────────────┴─────────────────┘\n",
              "</pre>\n"
            ]
          },
          "metadata": {}
        },
        {
          "output_type": "display_data",
          "data": {
            "text/plain": [
              "\u001b[1m Total params: \u001b[0m\u001b[38;5;34m279,968\u001b[0m (1.07 MB)\n"
            ],
            "text/html": [
              "<pre style=\"white-space:pre;overflow-x:auto;line-height:normal;font-family:Menlo,'DejaVu Sans Mono',consolas,'Courier New',monospace\"><span style=\"font-weight: bold\"> Total params: </span><span style=\"color: #00af00; text-decoration-color: #00af00\">279,968</span> (1.07 MB)\n",
              "</pre>\n"
            ]
          },
          "metadata": {}
        },
        {
          "output_type": "display_data",
          "data": {
            "text/plain": [
              "\u001b[1m Trainable params: \u001b[0m\u001b[38;5;34m93,322\u001b[0m (364.54 KB)\n"
            ],
            "text/html": [
              "<pre style=\"white-space:pre;overflow-x:auto;line-height:normal;font-family:Menlo,'DejaVu Sans Mono',consolas,'Courier New',monospace\"><span style=\"font-weight: bold\"> Trainable params: </span><span style=\"color: #00af00; text-decoration-color: #00af00\">93,322</span> (364.54 KB)\n",
              "</pre>\n"
            ]
          },
          "metadata": {}
        },
        {
          "output_type": "display_data",
          "data": {
            "text/plain": [
              "\u001b[1m Non-trainable params: \u001b[0m\u001b[38;5;34m0\u001b[0m (0.00 B)\n"
            ],
            "text/html": [
              "<pre style=\"white-space:pre;overflow-x:auto;line-height:normal;font-family:Menlo,'DejaVu Sans Mono',consolas,'Courier New',monospace\"><span style=\"font-weight: bold\"> Non-trainable params: </span><span style=\"color: #00af00; text-decoration-color: #00af00\">0</span> (0.00 B)\n",
              "</pre>\n"
            ]
          },
          "metadata": {}
        },
        {
          "output_type": "display_data",
          "data": {
            "text/plain": [
              "\u001b[1m Optimizer params: \u001b[0m\u001b[38;5;34m186,646\u001b[0m (729.09 KB)\n"
            ],
            "text/html": [
              "<pre style=\"white-space:pre;overflow-x:auto;line-height:normal;font-family:Menlo,'DejaVu Sans Mono',consolas,'Courier New',monospace\"><span style=\"font-weight: bold\"> Optimizer params: </span><span style=\"color: #00af00; text-decoration-color: #00af00\">186,646</span> (729.09 KB)\n",
              "</pre>\n"
            ]
          },
          "metadata": {}
        }
      ],
      "source": [
        "# Sumário do Modelo\n",
        "model.summary()"
      ]
    },
    {
      "cell_type": "code",
      "execution_count": 16,
      "metadata": {
        "colab": {
          "base_uri": "https://localhost:8080/"
        },
        "id": "7_M9P-VAaVOW",
        "outputId": "cb3e5d84-3c92-45ad-9ea4-7545e2571c7c"
      },
      "outputs": [
        {
          "output_type": "stream",
          "name": "stdout",
          "text": [
            "980 1135 1032 1010 982 892 958 1028 974 1009 0\n",
            "\n",
            "Total:  10000\n"
          ]
        }
      ],
      "source": [
        "# Conferindo (A) quantas imagens por classe\n",
        "zero, um, dois, tres, quatro, cinco, seis, sete, oito, nove, erro = 0,0,0,0,0,0,0,0,0,0,0\n",
        "for i in range(0,teste_labels.size):\n",
        "  if teste_labels[i]== 0:\n",
        "    zero = zero + 1\n",
        "  elif teste_labels[i]== 1:\n",
        "    um = um + 1\n",
        "  elif teste_labels[i]== 2:\n",
        "    dois = dois + 1\n",
        "  elif teste_labels[i]== 3:\n",
        "    tres = tres + 1\n",
        "  elif teste_labels[i]== 4:\n",
        "    quatro = quatro + 1\n",
        "  elif teste_labels[i]== 5:\n",
        "    cinco = cinco + 1\n",
        "  elif teste_labels[i]== 6:\n",
        "    seis = seis + 1\n",
        "  elif teste_labels[i]== 7:\n",
        "    sete = sete + 1\n",
        "  elif teste_labels[i]== 8:\n",
        "    oito = oito + 1\n",
        "  elif teste_labels[i]== 9:\n",
        "    nove = nove + 1\n",
        "  else:\n",
        "    erro = erro + 1\n",
        "\n",
        "print(zero, um, dois, tres, quatro, cinco, seis, sete, oito, nove, erro)\n",
        "soma = zero + um + dois + tres + quatro + cinco + seis + sete + oito + nove + erro\n",
        "print('\\nTotal: ', soma)"
      ]
    },
    {
      "cell_type": "code",
      "execution_count": 17,
      "metadata": {
        "colab": {
          "base_uri": "https://localhost:8080/"
        },
        "id": "BA2dOGMsbuXO",
        "outputId": "ad7763f5-3fdb-4268-d1a9-3e01f757894f"
      },
      "outputs": [
        {
          "output_type": "stream",
          "name": "stdout",
          "text": [
            "<class 'numpy.ndarray'>\n",
            "4\n",
            "(10000, 28, 28, 1)\n",
            "float64\n"
          ]
        }
      ],
      "source": [
        "# conferindo arquivo de imagens\n",
        "print(type(teste_imagens))\n",
        "print(teste_imagens.ndim)\n",
        "print(teste_imagens.shape)\n",
        "print(teste_imagens.dtype)"
      ]
    },
    {
      "cell_type": "code",
      "execution_count": 18,
      "metadata": {
        "colab": {
          "base_uri": "https://localhost:8080/"
        },
        "id": "NGOOwjrZWJHz",
        "outputId": "90409bdd-e7ec-41db-d441-5d6c8446958a"
      },
      "outputs": [
        {
          "output_type": "execute_result",
          "data": {
            "text/plain": [
              "array([[ 975,    0,    0,    0,    0,    0,    4,    1,    0,    0],\n",
              "       [   0, 1134,    0,    1,    0,    0,    0,    0,    0,    0],\n",
              "       [   1,    2, 1018,    1,    3,    0,    3,    4,    0,    0],\n",
              "       [   0,    0,    0, 1009,    0,    0,    0,    1,    0,    0],\n",
              "       [   0,    0,    0,    0,  978,    0,    2,    0,    0,    2],\n",
              "       [   0,    0,    0,   11,    0,  877,    3,    1,    0,    0],\n",
              "       [   2,    4,    0,    0,    1,    0,  951,    0,    0,    0],\n",
              "       [   0,    4,    3,    0,    0,    0,    0, 1018,    0,    3],\n",
              "       [   2,    2,    3,    1,    1,    1,    2,    2,  958,    2],\n",
              "       [   1,    1,    0,    2,    7,   10,    0,    2,    5,  981]],\n",
              "      dtype=int32)"
            ]
          },
          "metadata": {},
          "execution_count": 18
        }
      ],
      "source": [
        "# Matriz (B) da confusion matrix\n",
        "con_mat"
      ]
    },
    {
      "cell_type": "code",
      "execution_count": 19,
      "metadata": {
        "colab": {
          "base_uri": "https://localhost:8080/"
        },
        "id": "Y_o-DZwLcubP",
        "outputId": "537566fd-e8bd-4cf2-ace6-57f6f0ed9eb8"
      },
      "outputs": [
        {
          "output_type": "execute_result",
          "data": {
            "text/plain": [
              "[980, 1135, 1032, 1010, 982, 892, 958, 1028, 974, 1009]"
            ]
          },
          "metadata": {},
          "execution_count": 19
        }
      ],
      "source": [
        "# numero de imagens por classe\n",
        "num_imagens = [zero, um, dois, tres, quatro, cinco, seis, sete, oito, nove]\n",
        "num_imagens"
      ]
    },
    {
      "cell_type": "code",
      "execution_count": 20,
      "metadata": {
        "id": "LKI7f6FFn3Md"
      },
      "outputs": [],
      "source": [
        "#calculo de VP, VN, de uma classe [REFAZER MENOS LINHA E COLUNA, PARA CIMA]\n",
        "def calculo_VP_VN (classe_num):\n",
        "  VP,VN, MT = 0,0,0\n",
        "  linha, coluna = 0,0\n",
        "\n",
        "  # VP - verdadeiro positivo da classe\n",
        "  VP = con_mat[classe_num,classe_num]\n",
        "\n",
        "  # VN - verdadeiro negativo\n",
        "  # 1) soma a matriz inteira\n",
        "  # 2) e diminui a linha e coluna da classe analisada\n",
        "\n",
        "  #1)\n",
        "  for i in range(0, 10):\n",
        "    for j in range(0, 10):\n",
        "      MT = MT + con_mat[j,i]\n",
        "\n",
        "  #2)\n",
        "  for i in range(0, 10):\n",
        "    coluna += con_mat[i,classe_num]\n",
        "    linha += con_mat[classe_num,i]\n",
        "\n",
        "  # diminuindo VP porque foi somado 2x\n",
        "  VN = MT - (linha + coluna - VP)\n",
        "\n",
        "  return VP, VN"
      ]
    },
    {
      "cell_type": "code",
      "execution_count": 21,
      "metadata": {
        "id": "WQnq-lMY4psh"
      },
      "outputs": [],
      "source": [
        "# Calculo de FP e FN de uma classe\n",
        "\n",
        "def calculo_FP_FN (classe_num):\n",
        "  VP, FP,FN = 0,0,0\n",
        "  VP = con_mat[classe_num,classe_num]\n",
        "  # FP - soma a coluna; FN - soma a Linha (menos VP)\n",
        "  for i in range(0, 10):\n",
        "    FP += con_mat[i,classe_num]\n",
        "    FN += con_mat[classe_num,i]\n",
        "  FP = FP - VP\n",
        "  FN = FN - VP\n",
        "\n",
        "  return FP, FN"
      ]
    },
    {
      "cell_type": "code",
      "execution_count": 22,
      "metadata": {
        "colab": {
          "base_uri": "https://localhost:8080/"
        },
        "id": "MXkC-polthjh",
        "outputId": "dfe1276c-5f6d-4b3f-e852-ad83bcb65e23"
      },
      "outputs": [
        {
          "output_type": "stream",
          "name": "stdout",
          "text": [
            "Número de Amostras:  10000 \n",
            "Verdadeiro Positivo:  981 \n",
            "Falso Positivo:  7 \n",
            "Falso Negativo:  28 \n",
            "Verdadeiro Negativo:  8984\n"
          ]
        }
      ],
      "source": [
        "#definir a classe para analisar\n",
        "classe_analisada = 9\n",
        "\n",
        "N = 10000\n",
        "VP,VN, FP,FN = 0,0,0,0\n",
        "VP, VN = calculo_VP_VN(classe_analisada)\n",
        "FP, FN = calculo_FP_FN(classe_analisada)\n",
        "\n",
        "print ('Número de Amostras: ', N, '\\nVerdadeiro Positivo: ', VP,'\\nFalso Positivo: ', FP, '\\nFalso Negativo: ', FN, '\\nVerdadeiro Negativo: ', VN)"
      ]
    },
    {
      "cell_type": "code",
      "execution_count": 23,
      "metadata": {
        "colab": {
          "base_uri": "https://localhost:8080/"
        },
        "id": "86V3S6YvQ-s8",
        "outputId": "0ca63116-3c38-46f5-e1de-da294b7193b6"
      },
      "outputs": [
        {
          "output_type": "stream",
          "name": "stdout",
          "text": [
            "Acurácia:  0.9965\n",
            "\n",
            "Sensibilidade:  0.9722497522299306\n",
            "\n",
            "Especificidade:  0.9992214436658882\n",
            "\n",
            "Precisão:  0.992914979757085\n",
            "\n",
            "F-score:  0.9824737105658488\n"
          ]
        }
      ],
      "source": [
        "#Numero de imagens\n",
        "N = 10000\n",
        "# acuracia\n",
        "acur_val = (VP+VN)/N\n",
        "print('Acurácia: ', acur_val)\n",
        "# sensibilidade (recall)\n",
        "sensib_val = VP/(VP+FN)\n",
        "print('\\nSensibilidade: ', sensib_val)\n",
        "# especificidade\n",
        "esp_val = VN/(VN+FP)\n",
        "print('\\nEspecificidade: ', esp_val)\n",
        "# precisão\n",
        "precis_val = VP/(VP+FP)\n",
        "print('\\nPrecisão: ', precis_val)\n",
        "# F-score\n",
        "F_score_val = 2*precis_val*sensib_val/(precis_val+sensib_val)\n",
        "print('\\nF-score: ', F_score_val)\n"
      ]
    }
  ],
  "metadata": {
    "accelerator": "GPU",
    "colab": {
      "gpuType": "T4",
      "provenance": [],
      "include_colab_link": true
    },
    "kernelspec": {
      "display_name": "Python 3",
      "name": "python3"
    }
  },
  "nbformat": 4,
  "nbformat_minor": 0
}